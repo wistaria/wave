{
 "cells": [
  {
   "cell_type": "markdown",
   "metadata": {},
   "source": [
    "# 波の回折"
   ]
  },
  {
   "cell_type": "code",
   "execution_count": null,
   "metadata": {},
   "outputs": [],
   "source": [
    "import numpy as np\n",
    "from math import cos, pi\n",
    "from matplotlib import pyplot, animation, rc\n",
    "from mpl_toolkits.mplot3d import Axes3D\n",
    "from IPython.display import HTML"
   ]
  },
  {
   "cell_type": "code",
   "execution_count": null,
   "metadata": {},
   "outputs": [],
   "source": [
    "s = 1.0     # 波の伝わる速さ\n",
    "L = 1.0     # 系の長さ\n",
    "T = 1.2     # シミュレーション時間\n",
    "n = 100     # 空間刻み数\n",
    "m = 240     # 時間刻み数\n",
    "dx = L/n    # 空間刻み幅\n",
    "dt = T/m    # 時間刻み幅\n",
    "a = s*dt/dx # α"
   ]
  },
  {
   "cell_type": "code",
   "execution_count": null,
   "metadata": {},
   "outputs": [],
   "source": [
    "# 初期条件\n",
    "x, y = np.meshgrid(np.linspace(0,L,n,False), np.linspace(0,L,n,False))\n",
    "u0 = np.zeros((n,n)) # 初期変位\n",
    "v0 = np.zeros((n,n)) # 初期速度"
   ]
  },
  {
   "cell_type": "code",
   "execution_count": null,
   "metadata": {},
   "outputs": [],
   "source": [
    "# 壁\n",
    "iw = 40 # 壁のx方向の位置\n",
    "wall = np.zeros(n)\n",
    "wall[70:n] = 1 # 穴の空いているところは1"
   ]
  },
  {
   "cell_type": "code",
   "execution_count": null,
   "metadata": {},
   "outputs": [],
   "source": [
    "# 強制振動\n",
    "w = 2*pi*10 # 各振動数\n",
    "def oscillate(k):\n",
    "    return 0.2*cos(w*dt*k)# 強制振動"
   ]
  },
  {
   "cell_type": "code",
   "execution_count": null,
   "metadata": {},
   "outputs": [],
   "source": [
    "# シミュレーション\n",
    "u = np.zeros((m,n,n))\n",
    "u[0,:,:] = u0[:,:]\n",
    "u[0,0,:] = oscillate(0)\n",
    "u[1,1:-1,1:-1] = (1-2*a**2)*u[0,1:-1,1:-1]+dt*v0[1:-1,1:-1] \\\n",
    "       +(a**2/2)*(u[0,0:-2,1:-1]+u[0,2:n,1:-1] \\\n",
    "       +u[0,1:-1,0:-2]+u[0,1:-1,2:n])\n",
    "u[1,0,:] = oscillate(1)\n",
    "for k in range(2,m):\n",
    "    u[k,1:-1,1:-1] = 2*(1-2*a**2)*u[k-1,1:-1,1:-1]-u[k-2,1:-1,1:-1] \\\n",
    "        +a**2*(u[k-1,0:-2,1:-1]+u[k-1,2:n,1:-1] \\\n",
    "        +u[k-1,1:-1,0:-2]+u[k-1,1:-1,2:n])\n",
    "    u[k,0,:] = oscillate(k)\n",
    "    u[k,iw,:] = u[k,iw,:] * wall[:]"
   ]
  },
  {
   "cell_type": "code",
   "execution_count": null,
   "metadata": {},
   "outputs": [],
   "source": [
    "# 結果の描画\n",
    "def update(k):\n",
    "    axis.clear()\n",
    "    axis.plot_wireframe(x,y,u[k],linewidth=0.5)\n",
    "    axis.set_zlim(-0.5,0.5)\n",
    "    axis.set_title('step='+str(k))\n",
    "fig = pyplot.figure()\n",
    "axis = fig.add_subplot(projection='3d')\n",
    "movie = animation.FuncAnimation(fig,update,frames=m,interval=50)\n",
    "rc('animation', html='jshtml')\n",
    "movie"
   ]
  },
  {
   "cell_type": "code",
   "execution_count": null,
   "metadata": {},
   "outputs": [],
   "source": [
    "# 等高線プロット\n",
    "def update(k):\n",
    "    pyplot.cla()\n",
    "    pyplot.contourf(x[iw:,:], y[iw:,:], u[k,iw:,:])\n",
    "    pyplot.title('step='+str(k))\n",
    "    pyplot.gca().set_aspect('equal');\n",
    "fig = pyplot.figure()\n",
    "movie = animation.FuncAnimation(fig,update,frames=m,interval=50)\n",
    "rc('animation', html='jshtml')\n",
    "movie"
   ]
  },
  {
   "cell_type": "code",
   "execution_count": null,
   "metadata": {},
   "outputs": [],
   "source": [
    "# y=0.5の断面\n",
    "def update(k):\n",
    "    pyplot.cla()\n",
    "    pyplot.plot(x[50,:], u[k,50,:], \"b\")\n",
    "    pyplot.ylim(-0.1,0.1)\n",
    "    pyplot.title('step='+str(k))\n",
    "fig = pyplot.figure();\n",
    "movie = animation.FuncAnimation(fig,update,frames=m,interval=50)\n",
    "rc('animation', html='jshtml');\n",
    "movie"
   ]
  },
  {
   "cell_type": "code",
   "execution_count": null,
   "metadata": {},
   "outputs": [],
   "source": []
  }
 ],
 "metadata": {
  "kernelspec": {
   "display_name": "Python 3",
   "language": "python",
   "name": "python3"
  },
  "language_info": {
   "codemirror_mode": {
    "name": "ipython",
    "version": 3
   },
   "file_extension": ".py",
   "mimetype": "text/x-python",
   "name": "python",
   "nbconvert_exporter": "python",
   "pygments_lexer": "ipython3",
   "version": "3.7.7"
  }
 },
 "nbformat": 4,
 "nbformat_minor": 4
}
