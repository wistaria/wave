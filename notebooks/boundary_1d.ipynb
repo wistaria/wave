{
 "cells": [
  {
   "cell_type": "markdown",
   "metadata": {},
   "source": [
    "# 一次元の波"
   ]
  },
  {
   "cell_type": "code",
   "execution_count": null,
   "metadata": {},
   "outputs": [],
   "source": [
    "import numpy as np\n",
    "from matplotlib import pyplot, animation, rc\n",
    "from IPython.display import HTML"
   ]
  },
  {
   "cell_type": "code",
   "execution_count": null,
   "metadata": {},
   "outputs": [],
   "source": [
    "s = 1.0           # 波の伝わる速さ\n",
    "length = 1.0      # 系の長さ\n",
    "time = 2.0        # シミュレーション時間\n",
    "nx = 100          # 空間メッシュ数\n",
    "dx = length/nx    # 空間刻み幅\n",
    "dt = dx           # 時間刻み幅\n",
    "nt = int(time/dt) # 時間刻み数\n",
    "a = s*dt/dx       # α"
   ]
  },
  {
   "cell_type": "code",
   "execution_count": null,
   "metadata": {},
   "outputs": [],
   "source": [
    "# 初期条件\n",
    "x = np.linspace(0,1,nx)\n",
    "u0 = np.exp(-200*(x-0.5)**2) # 初期変位\n",
    "v0 = np.zeros(nx) # 初期速度"
   ]
  },
  {
   "cell_type": "markdown",
   "metadata": {},
   "source": [
    "## 固定端"
   ]
  },
  {
   "cell_type": "code",
   "execution_count": null,
   "metadata": {},
   "outputs": [],
   "source": [
    "# シミュレーション\n",
    "u = np.zeros((nt,nx))\n",
    "u[0,:] = u0[:]\n",
    "u[1,1:-1] = u[0,1:-1]+dt*v0[1:-1]+(a**2/2)*(u[0,0:-2]+u[0,2:nx]-2*u[0,1:-1])\n",
    "for i in range(2,nt):\n",
    "    u[i,1:-1] = 2*u[i-1,1:-1]-u[i-2,1:-1]+a**2*(u[i-1,0:-2]+u[i-1,2:nx]-2*u[i-1,1:-1])\n",
    "\n",
    "# 結果の描画\n",
    "def update(i):\n",
    "    pyplot.cla()\n",
    "    pyplot.plot(x, u[i], \"b\")\n",
    "    pyplot.ylim(-1.1,1.1)\n",
    "    pyplot.title('step=' + str(i))\n",
    "fig = pyplot.figure();\n",
    "movie = animation.FuncAnimation(fig, update, frames=nt, interval=50)\n",
    "rc('animation', html='jshtml');\n",
    "movie"
   ]
  },
  {
   "cell_type": "markdown",
   "metadata": {},
   "source": [
    "## 自由端"
   ]
  },
  {
   "cell_type": "code",
   "execution_count": null,
   "metadata": {},
   "outputs": [],
   "source": [
    "# シミュレーション\n",
    "u = np.zeros((nt,nx))\n",
    "u[0,:] = u0[:]\n",
    "u[1,1:-1] = u[0,1:-1]+dt*v0[1:-1]+(a**2/2)*(u[0,0:-2]+u[0,2:nx]-2*u[0,1:-1])\n",
    "for i in range(2,nt):\n",
    "    u[i,1:-1] = 2*u[i-1,1:-1]-u[i-2,1:-1]+a**2*(u[i-1,0:-2]+u[i-1,2:nx]-2*u[i-1,1:-1])\n",
    "    u[i,0] = u[i,1]\n",
    "    u[i,-1] = u[i,-2]\n",
    "\n",
    "# 結果の描画\n",
    "def update(i):\n",
    "    pyplot.cla()\n",
    "    pyplot.plot(x, u[i], \"b\")\n",
    "    pyplot.ylim(-1.1,1.1)\n",
    "    pyplot.title('step=' + str(i))\n",
    "fig = pyplot.figure();\n",
    "movie = animation.FuncAnimation(fig, update, frames=nt, interval=50)\n",
    "rc('animation', html='jshtml');\n",
    "movie"
   ]
  },
  {
   "cell_type": "markdown",
   "metadata": {},
   "source": [
    "## 吸収境界条件"
   ]
  },
  {
   "cell_type": "code",
   "execution_count": null,
   "metadata": {},
   "outputs": [],
   "source": [
    "# シミュレーション\n",
    "u = np.zeros((nt,nx))\n",
    "u[0,:] = u0[:]\n",
    "u[1,1:-1] = u[0,1:-1]+dt*v0[1:-1]+(a**2/2)*(u[0,0:-2]+u[0,2:nx]-2*u[0,1:-1])\n",
    "for i in range(2,nt):\n",
    "    u[i,1:-1] = 2*u[i-1,1:-1]-u[i-2,1:-1]+a**2*(u[i-1,0:-2]+u[i-1,2:nx]-2*u[i-1,1:-1])\n",
    "    u[i,0] = u[i-1,0]+a*(u[i-1,1]-u[i-1,0])\n",
    "    u[i,-1] = u[i-1,-1]-a*(u[i-1,-1]-u[i-1,-2])\n",
    "\n",
    "# 結果の描画\n",
    "def update(i):\n",
    "    pyplot.cla()\n",
    "    pyplot.plot(x, u[i], \"b\")\n",
    "    pyplot.ylim(-1.1,1.1)\n",
    "    pyplot.title('step=' + str(i))\n",
    "fig = pyplot.figure();\n",
    "movie = animation.FuncAnimation(fig, update, frames=nt, interval=50)\n",
    "rc('animation', html='jshtml');\n",
    "movie"
   ]
  },
  {
   "cell_type": "code",
   "execution_count": null,
   "metadata": {},
   "outputs": [],
   "source": []
  }
 ],
 "metadata": {
  "kernelspec": {
   "display_name": "Python 3",
   "language": "python",
   "name": "python3"
  },
  "language_info": {
   "codemirror_mode": {
    "name": "ipython",
    "version": 3
   },
   "file_extension": ".py",
   "mimetype": "text/x-python",
   "name": "python",
   "nbconvert_exporter": "python",
   "pygments_lexer": "ipython3",
   "version": "3.7.6"
  }
 },
 "nbformat": 4,
 "nbformat_minor": 4
}
