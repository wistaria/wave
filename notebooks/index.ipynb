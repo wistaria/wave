{
 "cells": [
  {
   "cell_type": "markdown",
   "metadata": {},
   "source": [
    "# Pythonによる波のシミュレーション"
   ]
  },
  {
   "cell_type": "markdown",
   "metadata": {},
   "source": [
    "- [python.ipynb](python.ipynb) - Python入門\n",
    "- [one-dimension.ipynb](one-dimension.ipynb) - 一次元の波\n",
    "- [free-boundary.ipynb](free-boundary.ipynb) - 自由端条件\n",
    "- [resonance.ipynb](resonance.ipynb) - 強制振動と共鳴\n",
    "- [two-dimensions.ipynb](two-dimensions.ipynb) - 二次元の波\n",
    "- [diffraction.ipynb](diffraction.ipynb) - 回折現象\n",
    "- [young.ipynb](young.ipynb) - ヤングの二重スリット実験\n",
    "- [refraction.ipynb](refraction.ipynb) - 波の屈折と反射"
   ]
  },
  {
   "cell_type": "code",
   "execution_count": null,
   "metadata": {},
   "outputs": [],
   "source": []
  }
 ],
 "metadata": {
  "kernelspec": {
   "display_name": "Python 3",
   "language": "python",
   "name": "python3"
  },
  "language_info": {
   "codemirror_mode": {
    "name": "ipython",
    "version": 3
   },
   "file_extension": ".py",
   "mimetype": "text/x-python",
   "name": "python",
   "nbconvert_exporter": "python",
   "pygments_lexer": "ipython3",
   "version": "3.8.3"
  }
 },
 "nbformat": 4,
 "nbformat_minor": 4
}
