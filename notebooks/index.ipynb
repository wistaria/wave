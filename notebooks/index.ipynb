{
 "cells": [
  {
   "cell_type": "markdown",
   "metadata": {},
   "source": [
    "# Pythonによる波のシミュレーション"
   ]
  },
  {
   "cell_type": "markdown",
   "metadata": {},
   "source": [
    "- [Python入門](python.ipynb)\n",
    "- [boundary_1d.ipynb](boundary_1d.ipynb)\n",
    "- [forced_1d.ipynb](forced_1d.ipynb)\n",
    "- [two-dimensions.ipynb](two-dimensions.ipynb)\n",
    "- [ヤングの二重スリット実験](young.ipynb)\n",
    "- [回折現象](diffraction.ipynb)\n",
    "- [波の屈折と反射](refraction.ipynb)"
   ]
  },
  {
   "cell_type": "code",
   "execution_count": null,
   "metadata": {},
   "outputs": [],
   "source": []
  }
 ],
 "metadata": {
  "kernelspec": {
   "display_name": "Python 3",
   "language": "python",
   "name": "python3"
  },
  "language_info": {
   "codemirror_mode": {
    "name": "ipython",
    "version": 3
   },
   "file_extension": ".py",
   "mimetype": "text/x-python",
   "name": "python",
   "nbconvert_exporter": "python",
   "pygments_lexer": "ipython3",
   "version": "3.7.7"
  }
 },
 "nbformat": 4,
 "nbformat_minor": 4
}
