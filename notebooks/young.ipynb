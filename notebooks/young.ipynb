{
 "cells": [
  {
   "cell_type": "markdown",
   "metadata": {},
   "source": [
    "# ヤングの干渉実験"
   ]
  },
  {
   "cell_type": "code",
   "execution_count": null,
   "metadata": {},
   "outputs": [],
   "source": [
    "import numpy as np\n",
    "from math import cos, pi\n",
    "from matplotlib import pyplot, animation, rc\n",
    "from mpl_toolkits.mplot3d import Axes3D\n",
    "from IPython.display import HTML"
   ]
  },
  {
   "cell_type": "code",
   "execution_count": null,
   "metadata": {},
   "outputs": [],
   "source": [
    "s = 1.0           # 波の伝わる速さ\n",
    "length = 1.0      # 系の長さ\n",
    "time = 1.2        # シミュレーション時間\n",
    "nx = 100          # 空間メッシュ数\n",
    "dx = length/nx    # 空間刻み幅\n",
    "dt = 0.5*dx       # 時間刻み幅\n",
    "nt = int(time/dt) # 時間刻み数\n",
    "a = s*dt/dx       # α"
   ]
  },
  {
   "cell_type": "code",
   "execution_count": null,
   "metadata": {},
   "outputs": [],
   "source": [
    "# 初期条件\n",
    "x, y = np.mgrid[0:1:dx,0:1:dx]\n",
    "u0 = np.zeros((nx,nx)) # 初期変位\n",
    "v0 = np.zeros((nx,nx)) # 初期速度"
   ]
  },
  {
   "cell_type": "code",
   "execution_count": null,
   "metadata": {},
   "outputs": [],
   "source": [
    "# 壁 (穴の空いているところは1)\n",
    "nwx = 40 # 壁のx方向の位置\n",
    "wall = np.zeros(nx)\n",
    "wall[37:40] = 1 # 穴の空いているところは1\n",
    "wall[60:63] = 1"
   ]
  },
  {
   "cell_type": "code",
   "execution_count": null,
   "metadata": {},
   "outputs": [],
   "source": [
    "# 強制振動\n",
    "f = 0.1 # 周期\n",
    "def oscillate(i):\n",
    "    return 0.2*cos((2*pi/f)*dt*i)"
   ]
  },
  {
   "cell_type": "code",
   "execution_count": null,
   "metadata": {},
   "outputs": [],
   "source": [
    "# シミュレーション\n",
    "u = np.zeros((nt,nx,nx))\n",
    "u[0,:,:] = u0[:,:]\n",
    "u[0,0,:] = oscillate(0)\n",
    "u[1,1:-1,1:-1] = u[0,1:-1,1:-1]+dt*v0[1:-1,1:-1] \\\n",
    "       +(a**2/2)*(u[0,0:-2,1:-1]+u[0,2:nx,1:-1] \\\n",
    "       +u[0,1:-1,0:-2]+u[0,1:-1,2:nx]-4*u[0,1:-1,1:-1])\n",
    "u[1,0,:] = oscillate(1)\n",
    "for i in range(2,nt):\n",
    "    u[i,1:-1,1:-1] = 2*u[i-1,1:-1,1:-1]-u[i-2,1:-1,1:-1] \\\n",
    "        +a**2*(u[i-1,0:-2,1:-1]+u[i-1,2:nx,1:-1] \\\n",
    "        +u[i-1,1:-1,0:-2]+u[i-1,1:-1,2:nx]-4*u[i-1,1:-1,1:-1])\n",
    "    u[i,0,:] = oscillate(i)\n",
    "    u[i,nwx,:] = u[i,nwx,:] * wall[:]\n",
    "\n",
    "# 結果の描画\n",
    "def update(i):\n",
    "    ax.clear()\n",
    "    ax.plot_wireframe(x, y, u[i], linewidth=0.5)\n",
    "    ax.set_zlim(-0.5,0.5)\n",
    "    ax.set_title('step=' + str(i))\n",
    "fig = pyplot.figure()\n",
    "ax = fig.add_subplot(projection='3d')\n",
    "movie = animation.FuncAnimation(fig, update, frames=nt, interval=50)\n",
    "rc('animation', html='jshtml')\n",
    "movie"
   ]
  },
  {
   "cell_type": "code",
   "execution_count": null,
   "metadata": {},
   "outputs": [],
   "source": [
    "# 等高線プロット\n",
    "def update(i):\n",
    "    pyplot.cla()\n",
    "    pyplot.contourf(x[nwx:,:], y[nwx:,:], u[i,nwx:,:])\n",
    "    pyplot.title('step=' + str(i))\n",
    "    pyplot.gca().set_aspect('equal');\n",
    "fig = pyplot.figure()\n",
    "movie = animation.FuncAnimation(fig, update, frames=nt, interval=50)\n",
    "rc('animation', html='jshtml')\n",
    "movie"
   ]
  },
  {
   "cell_type": "code",
   "execution_count": null,
   "metadata": {},
   "outputs": [],
   "source": [
    "# x=0.5の断面\n",
    "def update(i):\n",
    "    pyplot.cla()\n",
    "    pyplot.plot(y[50,:], u[i,50,:], \"b\")\n",
    "    pyplot.ylim(-0.1,0.1)\n",
    "    pyplot.title('step=' + str(i))\n",
    "fig = pyplot.figure();\n",
    "movie = animation.FuncAnimation(fig, update, frames=nt, interval=50)\n",
    "rc('animation', html='jshtml');\n",
    "movie"
   ]
  },
  {
   "cell_type": "code",
   "execution_count": null,
   "metadata": {},
   "outputs": [],
   "source": []
  }
 ],
 "metadata": {
  "kernelspec": {
   "display_name": "Python 3",
   "language": "python",
   "name": "python3"
  },
  "language_info": {
   "codemirror_mode": {
    "name": "ipython",
    "version": 3
   },
   "file_extension": ".py",
   "mimetype": "text/x-python",
   "name": "python",
   "nbconvert_exporter": "python",
   "pygments_lexer": "ipython3",
   "version": "3.7.6"
  }
 },
 "nbformat": 4,
 "nbformat_minor": 4
}
