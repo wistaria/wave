{
 "cells": [
  {
   "cell_type": "markdown",
   "metadata": {},
   "source": [
    "# ヤングの二重スリット実験"
   ]
  },
  {
   "cell_type": "code",
   "execution_count": null,
   "metadata": {},
   "outputs": [],
   "source": [
    "import numpy as np\n",
    "from math import cos,pi\n",
    "from matplotlib import pyplot,animation,rc\n",
    "from IPython.display import HTML"
   ]
  },
  {
   "cell_type": "code",
   "execution_count": null,
   "metadata": {},
   "outputs": [],
   "source": [
    "s = 1.0     # 波の伝わる速さ\n",
    "L = 2.0     # 系の長さ\n",
    "T = 4.0     # シミュレーション時間\n",
    "n = 200     # 空間刻み数\n",
    "m = 800     # 時間刻み数\n",
    "dx = L/n    # 空間刻み幅\n",
    "dt = T/m    # 時間刻み幅\n",
    "a = s*dt/dx # α"
   ]
  },
  {
   "cell_type": "code",
   "execution_count": null,
   "metadata": {},
   "outputs": [],
   "source": [
    "# 初期条件\n",
    "x, y = np.meshgrid(np.linspace(0,L,n,False),np.linspace(0,L,n,False),indexing='ij')\n",
    "u0 = np.zeros((n,n)) # 初期変位\n",
    "v0 = np.zeros((n,n)) # 初期速度"
   ]
  },
  {
   "cell_type": "code",
   "execution_count": null,
   "metadata": {},
   "outputs": [],
   "source": [
    "# 壁 (穴の空いているところは1)\n",
    "iw = 100 # 壁のx方向の位置\n",
    "wall = np.zeros(n)\n",
    "wall[87:90] = 1   # 穴の空いているところは1\n",
    "wall[110:113] = 1"
   ]
  },
  {
   "cell_type": "code",
   "execution_count": null,
   "metadata": {},
   "outputs": [],
   "source": [
    "# 強制振動\n",
    "w = 2*pi*10 # 各振動数\n",
    "def oscillate(k):\n",
    "    return 0.2*cos(w*dt*k)# 強制振動"
   ]
  },
  {
   "cell_type": "code",
   "execution_count": null,
   "metadata": {},
   "outputs": [],
   "source": [
    "# シミュレーション\n",
    "u = np.zeros((m,n,n))\n",
    "u[0,:,:] = u0[:,:]\n",
    "u[0,0,:] = oscillate(0)\n",
    "u[0,iw,:] = u[0,iw,:] * wall[:]\n",
    "u[1,1:-1,1:-1] = (1-2*a**2)*u[0,1:-1,1:-1]+dt*v0[1:-1,1:-1] \\\n",
    "  +(a**2/2)*(u[0,0:-2,1:-1]+u[0,2:n,1:-1]+u[0,1:-1,0:-2]+u[0,1:-1,2:n])\n",
    "u[1,0,:] = oscillate(1)\n",
    "u[1,iw,:] = u[1,iw,:] * wall[:]\n",
    "for k in range(2,m):\n",
    "    u[k,1:-1,1:-1] = 2*(1-2*a**2)*u[k-1,1:-1,1:-1]-u[k-2,1:-1,1:-1] \\\n",
    "      +a**2*(u[k-1,0:-2,1:-1]+u[k-1,2:n,1:-1]+u[k-1,1:-1,0:-2]+u[k-1,1:-1,2:n])\n",
    "    u[k,0,:] = oscillate(k)\n",
    "    u[k,iw,:] = u[k,iw,:] * wall[:]"
   ]
  },
  {
   "cell_type": "code",
   "execution_count": null,
   "metadata": {},
   "outputs": [],
   "source": [
    "# 等高線プロット\n",
    "xi = 95  # x = 0.95-1.5\n",
    "xf = 150\n",
    "yi = 50  # y = 0.5-1.5\n",
    "yf = 150\n",
    "ti = 200 # t = 1.0-1.6\n",
    "tf = 320\n",
    "def update(k):\n",
    "    pyplot.cla()\n",
    "    pyplot.contourf(x[xi:xf,yi:yf], y[xi:xf,yi:yf], u[k+ti,xi:xf,yi:yf])\n",
    "    pyplot.title('step='+str(k+ti))\n",
    "    pyplot.gca().set_aspect('equal');\n",
    "fig = pyplot.figure()\n",
    "movie = animation.FuncAnimation(fig,update,frames=tf-ti,interval=50)\n",
    "rc('animation', html='jshtml')\n",
    "movie"
   ]
  },
  {
   "cell_type": "code",
   "execution_count": null,
   "metadata": {},
   "outputs": [],
   "source": [
    "# 等高線プロット (t = 305)\n",
    "t = 305\n",
    "fig = pyplot.figure()\n",
    "pyplot.contourf(x[xi:xf,yi:yf], y[xi:xf,yi:yf], u[t,xi:xf,yi:yf])\n",
    "pyplot.title('step='+str(t))\n",
    "pyplot.gca().set_aspect('equal');\n",
    "# pyplot.savefig('young-1.pdf') # ファイルへの出力"
   ]
  },
  {
   "cell_type": "code",
   "execution_count": null,
   "metadata": {},
   "outputs": [],
   "source": [
    "# x=1.1の断面\n",
    "xp = 110 # x = 1.1\n",
    "yi = 80  # y = 0.8-1.2\n",
    "yf = 120\n",
    "ti = 200 # t = 1.0-2.0\n",
    "tf = 400\n",
    "def update(k):\n",
    "    pyplot.cla()\n",
    "    pyplot.plot(y[xp,yi:yf], u[k+ti,xp,yi:yf],\"b\")\n",
    "    pyplot.ylim(-0.1,0.1)\n",
    "    pyplot.title('step='+str(k+ti))\n",
    "fig = pyplot.figure();\n",
    "movie = animation.FuncAnimation(fig,update,frames=tf-ti,interval=50)\n",
    "rc('animation', html='jshtml');\n",
    "movie"
   ]
  },
  {
   "cell_type": "code",
   "execution_count": null,
   "metadata": {},
   "outputs": [],
   "source": [
    "# x=1.1の断面 (t=310)\n",
    "t = 310\n",
    "fig = pyplot.figure();\n",
    "pyplot.plot(y[xp,yi:yf], u[t,xp,yi:yf],\"b\")\n",
    "pyplot.ylim(-0.1,0.1)\n",
    "pyplot.title('step='+str(t))\n",
    "# pyplot.savefig('young-2.pdf') # ファイルへの出力"
   ]
  },
  {
   "cell_type": "code",
   "execution_count": null,
   "metadata": {},
   "outputs": [],
   "source": []
  }
 ],
 "metadata": {
  "kernelspec": {
   "display_name": "Python 3",
   "language": "python",
   "name": "python3"
  },
  "language_info": {
   "codemirror_mode": {
    "name": "ipython",
    "version": 3
   },
   "file_extension": ".py",
   "mimetype": "text/x-python",
   "name": "python",
   "nbconvert_exporter": "python",
   "pygments_lexer": "ipython3",
   "version": "3.8.3"
  }
 },
 "nbformat": 4,
 "nbformat_minor": 4
}
