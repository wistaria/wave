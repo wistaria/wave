{
 "cells": [
  {
   "cell_type": "markdown",
   "metadata": {},
   "source": [
    "# 波の屈折と反射"
   ]
  },
  {
   "cell_type": "code",
   "execution_count": null,
   "metadata": {},
   "outputs": [],
   "source": [
    "import numpy as np\n",
    "from math import cos,pi\n",
    "from matplotlib import pyplot,animation,rc\n",
    "from IPython.display import HTML"
   ]
  },
  {
   "cell_type": "code",
   "execution_count": null,
   "metadata": {},
   "outputs": [],
   "source": [
    "s = 1.0     # 波の伝わる速さ\n",
    "L = 2.0     # 系の長さ\n",
    "T = 4.0     # シミュレーション時間\n",
    "n = 200     # 空間刻み数\n",
    "m = 800     # 時間刻み数\n",
    "dx = L/n    # 空間刻み幅\n",
    "dt = T/m    # 時間刻み幅\n",
    "a = s*dt/dx # α"
   ]
  },
  {
   "cell_type": "code",
   "execution_count": null,
   "metadata": {},
   "outputs": [],
   "source": [
    "# 初期条件\n",
    "x, y = np.meshgrid(np.linspace(0,L,n,False),np.linspace(0,L,n,False),indexing='ij')\n",
    "u0 = np.zeros((n,n)) # 初期変位\n",
    "v0 = np.zeros((n,n)) # 初期速度"
   ]
  },
  {
   "cell_type": "code",
   "execution_count": null,
   "metadata": {},
   "outputs": [],
   "source": [
    "ax = np.zeros((n,n))\n",
    "ax[:,:] = a\n",
    "for i in range(n):\n",
    "    for j in range(n):\n",
    "        if y[i,j] < 1.25*x[i,j]-0.25*L:\n",
    "            ax[i,j] = 0.75*a"
   ]
  },
  {
   "cell_type": "code",
   "execution_count": null,
   "metadata": {},
   "outputs": [],
   "source": [
    "# 強制振動\n",
    "w = 2*pi*10 # 各振動数\n",
    "def oscillate(k):\n",
    "    return 0.2*cos(w*dt*k)"
   ]
  },
  {
   "cell_type": "code",
   "execution_count": null,
   "metadata": {},
   "outputs": [],
   "source": [
    "# シミュレーション\n",
    "u = np.zeros((m,n,n))\n",
    "u[0,:,:] = u0[:,:]\n",
    "u[0,0,:] = oscillate(0)\n",
    "u[1,1:-1,1:-1] = (1-2*ax[1:-1,1:-1]**2)*u[0,1:-1,1:-1]+dt*v0[1:-1,1:-1]+(ax[1:-1,1:-1]**2/2)*(u[0,0:-2,1:-1]+u[0,2:n,1:-1]+u[0,1:-1,0:-2]+u[0,1:-1,2:n])\n",
    "u[1,0,:] = oscillate(1)\n",
    "for k in range(2,m):\n",
    "    u[k,1:-1,1:-1] = 2*(1-2*ax[1:-1,1:-1]**2)*u[k-1,1:-1,1:-1]-u[k-2,1:-1,1:-1]+ax[1:-1,1:-1]**2*(u[k-1,0:-2,1:-1]+u[k-1,2:n,1:-1]+u[k-1,1:-1,0:-2]+u[k-1,1:-1,2:n])\n",
    "    u[k,0,:] = oscillate(k)"
   ]
  },
  {
   "cell_type": "code",
   "execution_count": null,
   "metadata": {},
   "outputs": [],
   "source": [
    "# 等高線プロット\n",
    "xmin = 70    # x = 0.7-1.7\n",
    "xmax = 170+1\n",
    "ymin = 50    # y = 0.5-1.5\n",
    "ymax = 150+1\n",
    "tmin = 180   # t = 0.9-1.8\n",
    "tmax = 360\n",
    "def update(k):\n",
    "    pyplot.cla()\n",
    "    pyplot.contourf(x[xmin:xmax,ymin:ymax],y[xmin:xmax,ymin:ymax],u[k+tmin,xmin:xmax,ymin:ymax])\n",
    "    pyplot.plot([0.8,1.6],[0.5,1.5],\"b\")\n",
    "    pyplot.title('step='+str(k+tmin))\n",
    "    pyplot.gca().set_aspect('equal');\n",
    "fig = pyplot.figure()\n",
    "movie = animation.FuncAnimation(fig,update,frames=tmax-tmin,interval=50)\n",
    "rc('animation', html='jshtml')\n",
    "movie"
   ]
  },
  {
   "cell_type": "code",
   "execution_count": null,
   "metadata": {},
   "outputs": [],
   "source": [
    "# 入射波(1,1)、屈折波(0.9825,-0.1860)、反射波(-0.2195,0.9756)の進行方向を重ねてプロット\n",
    "t = 360\n",
    "fig = pyplot.figure()\n",
    "pyplot.contourf(x[xmin:xmax,ymin:ymax],y[xmin:xmax,ymin:ymax],u[t,xmin:xmax,ymin:ymax])\n",
    "pyplot.plot([0.8,1.6],[0.5,1.5],\"b\")\n",
    "pyplot.plot([1.2-1,1.2],[1.0,1.0],\"r\")\n",
    "pyplot.plot([1.2,1.2+0.9825],[1.0,1.0-0.1860],\"r\")\n",
    "pyplot.plot([1.2,1.2-0.2195],[1.0,1.0+0.9756],\"r\")\n",
    "pyplot.title('step='+str(t))\n",
    "pyplot.xlim([0.7,1.7])\n",
    "pyplot.ylim([0.5,1.5])\n",
    "pyplot.gca().set_aspect('equal');\n",
    "# pyplot.savefig('refraction.pdf') # ファイルへの保存"
   ]
  },
  {
   "cell_type": "code",
   "execution_count": null,
   "metadata": {},
   "outputs": [],
   "source": []
  }
 ],
 "metadata": {
  "kernelspec": {
   "display_name": "Python 3",
   "language": "python",
   "name": "python3"
  },
  "language_info": {
   "codemirror_mode": {
    "name": "ipython",
    "version": 3
   },
   "file_extension": ".py",
   "mimetype": "text/x-python",
   "name": "python",
   "nbconvert_exporter": "python",
   "pygments_lexer": "ipython3",
   "version": "3.8.3"
  }
 },
 "nbformat": 4,
 "nbformat_minor": 4
}
