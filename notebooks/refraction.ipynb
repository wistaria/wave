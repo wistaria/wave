{
 "cells": [
  {
   "cell_type": "markdown",
   "metadata": {},
   "source": [
    "# 波の屈折"
   ]
  },
  {
   "cell_type": "code",
   "execution_count": null,
   "metadata": {},
   "outputs": [],
   "source": [
    "import numpy as np\n",
    "from math import cos, pi\n",
    "from matplotlib import pyplot, animation, rc\n",
    "from mpl_toolkits.mplot3d import Axes3D\n",
    "from IPython.display import HTML"
   ]
  },
  {
   "cell_type": "code",
   "execution_count": null,
   "metadata": {},
   "outputs": [],
   "source": [
    "s = 1.0       # 波の伝わる速さ\n",
    "L = 1.0       # 系の長さ\n",
    "T = 1.2       # シミュレーション時間\n",
    "n = 100       # 空間刻み数\n",
    "dx = L/n      # 空間刻み幅\n",
    "dt = 0.5*dx   # 時間刻み幅\n",
    "m = int(T/dt) # 時間刻み数\n",
    "a = s*dt/dx   # α"
   ]
  },
  {
   "cell_type": "code",
   "execution_count": null,
   "metadata": {},
   "outputs": [],
   "source": [
    "# 初期条件\n",
    "x, y = np.mgrid[0:1:dx,0:1:dx]\n",
    "u0 = np.zeros((n,n)) # 初期変位\n",
    "v0 = np.zeros((n,n)) # 初期速度"
   ]
  },
  {
   "cell_type": "code",
   "execution_count": null,
   "metadata": {},
   "outputs": [],
   "source": [
    "ax = np.zeros((n,n))\n",
    "ax[:,:] = a\n",
    "for i in range(n):\n",
    "    for j in range(n):\n",
    "        if x[i,j] > 0.8*y[i,j]+0.2:\n",
    "            ax[i,j] = 0.6*a"
   ]
  },
  {
   "cell_type": "code",
   "execution_count": null,
   "metadata": {},
   "outputs": [],
   "source": [
    "# 強制振動\n",
    "w = 2*pi*10 # 各振動数\n",
    "def oscillate(k):\n",
    "    return 0.2*cos(w*dt*k)"
   ]
  },
  {
   "cell_type": "code",
   "execution_count": null,
   "metadata": {},
   "outputs": [],
   "source": [
    "# シミュレーション\n",
    "u = np.zeros((m,n,n))\n",
    "u[0,:,:] = u0[:,:]\n",
    "u[0,0,:] = oscillate(0)\n",
    "u[1,1:-1,1:-1] = u[0,1:-1,1:-1]+dt*v0[1:-1,1:-1] \\\n",
    "    +(ax[1:-1,1:-1]**2/2)*(u[0,0:-2,1:-1]+u[0,2:n,1:-1] \\\n",
    "    +u[0,1:-1,0:-2]+u[0,1:-1,2:n]-4*u[0,1:-1,1:-1])\n",
    "u[1,0,:] = oscillate(1)\n",
    "for k in range(2,m):\n",
    "    u[k,1:-1,1:-1] = 2*u[k-1,1:-1,1:-1]-u[k-2,1:-1,1:-1] \\\n",
    "        +ax[1:-1,1:-1]**2*(u[k-1,0:-2,1:-1]+u[k-1,2:n,1:-1] \\\n",
    "        +u[k-1,1:-1,0:-2]+u[k-1,1:-1,2:n]-4*u[k-1,1:-1,1:-1])\n",
    "    u[k,0,:] = oscillate(k)\n",
    "\n",
    "# 結果の描画\n",
    "def update(k):\n",
    "    axis.clear()\n",
    "    axis.plot_wireframe(x,y,u[k],linewidth=0.5)\n",
    "    axis.set_zlim(-0.5,0.5)\n",
    "    axis.set_title('step='+str(k))\n",
    "fig = pyplot.figure()\n",
    "axis = fig.add_subplot(projection='3d')\n",
    "movie = animation.FuncAnimation(fig,update,frames=m,interval=50)\n",
    "rc('animation', html='jshtml')\n",
    "movie"
   ]
  },
  {
   "cell_type": "code",
   "execution_count": null,
   "metadata": {},
   "outputs": [],
   "source": [
    "# 等高線プロット\n",
    "def update(k):\n",
    "    pyplot.cla()\n",
    "    pyplot.contourf(x,y,u[k])\n",
    "    pyplot.plot([0.2,1.0],[0.0,1.0],\"r\")\n",
    "    pyplot.title('step='+str(k))\n",
    "    pyplot.gca().set_aspect('equal');\n",
    "fig = pyplot.figure()\n",
    "movie = animation.FuncAnimation(fig,update,frames=m,interval=50)\n",
    "rc('animation', html='jshtml')\n",
    "movie"
   ]
  },
  {
   "cell_type": "code",
   "execution_count": null,
   "metadata": {},
   "outputs": [],
   "source": []
  }
 ],
 "metadata": {
  "kernelspec": {
   "display_name": "Python 3",
   "language": "python",
   "name": "python3"
  },
  "language_info": {
   "codemirror_mode": {
    "name": "ipython",
    "version": 3
   },
   "file_extension": ".py",
   "mimetype": "text/x-python",
   "name": "python",
   "nbconvert_exporter": "python",
   "pygments_lexer": "ipython3",
   "version": "3.7.6"
  }
 },
 "nbformat": 4,
 "nbformat_minor": 4
}
