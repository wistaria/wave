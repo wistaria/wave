{
 "cells": [
  {
   "cell_type": "markdown",
   "metadata": {},
   "source": [
    "# 強制振動"
   ]
  },
  {
   "cell_type": "code",
   "execution_count": null,
   "metadata": {},
   "outputs": [],
   "source": [
    "import numpy as np\n",
    "from math import sin, pi\n",
    "from matplotlib import pyplot, animation, rc\n",
    "from IPython.display import HTML"
   ]
  },
  {
   "cell_type": "code",
   "execution_count": null,
   "metadata": {},
   "outputs": [],
   "source": [
    "s = 1.0       # 波の伝わる速さ\n",
    "L = 1.0       # 系の長さ\n",
    "T = 4.0       # シミュレーション時間\n",
    "n = 100       # 空間刻み数\n",
    "dx = L/n      # 空間刻み幅\n",
    "dt = dx       # 時間刻み幅\n",
    "m = int(T/dt) # 時間刻み数\n",
    "a = s*dt/dx   # α"
   ]
  },
  {
   "cell_type": "code",
   "execution_count": null,
   "metadata": {},
   "outputs": [],
   "source": [
    "# 初期条件\n",
    "x = np.linspace(0,1,n)\n",
    "u0 = np.zeros(n) # 初期変位\n",
    "v0 = np.zeros(n) # 初期速度"
   ]
  },
  {
   "cell_type": "markdown",
   "metadata": {},
   "source": [
    "## 固定端 共鳴"
   ]
  },
  {
   "cell_type": "code",
   "execution_count": null,
   "metadata": {},
   "outputs": [],
   "source": [
    "# 強制振動\n",
    "w = 2*pi*5 # 各振動数\n",
    "def oscillate(k):\n",
    "    return 0.2*sin(w*dt*k)"
   ]
  },
  {
   "cell_type": "code",
   "execution_count": null,
   "metadata": {},
   "outputs": [],
   "source": [
    "# シミュレーション\n",
    "u = np.zeros((m,n))\n",
    "u[0,:] = u0[:]\n",
    "u[0,0] = oscillate(0)\n",
    "u[1,1:-1] = u[0,1:-1]+dt*v0[1:-1]+(a**2/2)*(u[0,0:-2]+u[0,2:n]-2*u[0,1:-1])\n",
    "u[1,0] = oscillate(1)\n",
    "for k in range(2,m):\n",
    "    u[k,1:-1] = 2*u[k-1,1:-1]-u[k-2,1:-1]+a**2*(u[k-1,0:-2]+u[k-1,2:n]-2*u[k-1,1:-1])\n",
    "    u[k,0] = oscillate(k)\n",
    "\n",
    "# 結果の描画\n",
    "def update(k):\n",
    "    pyplot.cla()\n",
    "    pyplot.plot(x,u[k],\"b\")\n",
    "    pyplot.ylim(-1.1,1.1)\n",
    "    pyplot.title('step='+str(k))\n",
    "fig = pyplot.figure();\n",
    "movie = animation.FuncAnimation(fig,update,frames=m,interval=50)\n",
    "rc('animation', html='jshtml');\n",
    "movie"
   ]
  },
  {
   "cell_type": "markdown",
   "metadata": {},
   "source": [
    "## 固定端 非共鳴"
   ]
  },
  {
   "cell_type": "code",
   "execution_count": null,
   "metadata": {},
   "outputs": [],
   "source": [
    "# 強制振動\n",
    "w = 2*pi*4.3 # 各振動数\n",
    "def oscillate(k):\n",
    "    return 0.2*sin(w*dt*k)"
   ]
  },
  {
   "cell_type": "code",
   "execution_count": null,
   "metadata": {},
   "outputs": [],
   "source": [
    "# シミュレーション\n",
    "u = np.zeros((m,n))\n",
    "u[0,:] = u0[:]\n",
    "u[0,0] = oscillate(0)\n",
    "u[1,1:-1] = u[0,1:-1]+dt*v0[1:-1]+(a**2/2)*(u[0,0:-2]+u[0,2:n]-2*u[0,1:-1])\n",
    "u[1,0] = oscillate(1)\n",
    "for k in range(2,m):\n",
    "    u[k,1:-1] = 2*u[k-1,1:-1]-u[k-2,1:-1]+a**2*(u[k-1,0:-2]+u[k-1,2:n]-2*u[k-1,1:-1])\n",
    "    u[k,0] = oscillate(k)\n",
    "\n",
    "# 結果の描画\n",
    "def update(k):\n",
    "    pyplot.cla()\n",
    "    pyplot.plot(x,u[k],\"b\")\n",
    "    pyplot.ylim(-1.1,1.1)\n",
    "    pyplot.title('step='+str(k))\n",
    "fig = pyplot.figure();\n",
    "movie = animation.FuncAnimation(fig,update,frames=m,interval=50)\n",
    "rc('animation',html='jshtml');\n",
    "movie"
   ]
  },
  {
   "cell_type": "markdown",
   "metadata": {},
   "source": [
    "## 途中で波の伝わる速さが変わる場合"
   ]
  },
  {
   "cell_type": "code",
   "execution_count": null,
   "metadata": {},
   "outputs": [],
   "source": [
    "# 強制振動\n",
    "w = 2*pi*5 # 各振動数\n",
    "def oscillate(k):\n",
    "    return 0.2*sin(w*dt*k)"
   ]
  },
  {
   "cell_type": "code",
   "execution_count": null,
   "metadata": {},
   "outputs": [],
   "source": [
    "# 位置に依存するα\n",
    "ax = np.zeros(n)\n",
    "ax[0:n//2] = a\n",
    "ax[n//2:n] = 0.5*a # 速さを半分に\n",
    "\n",
    "# シミュレーション\n",
    "u = np.zeros((m,n))\n",
    "u[0,:] = u0[:]\n",
    "u[0,0] = oscillate(0)\n",
    "u[1,1:-1] = u[0,1:-1]+dt*v0[1:-1]+(ax[1:-1]**2/2)*(u[0,0:-2]+u[0,2:n]-2*u[0,1:-1])\n",
    "u[1,0] = oscillate(1)\n",
    "for k in range(2,m):\n",
    "    u[k,1:-1] = 2*u[k-1,1:-1]-u[k-2,1:-1]+ax[1:-1]**2*(u[k-1,0:-2]+u[k-1,2:n]-2*u[k-1,1:-1])\n",
    "    u[k,0] = oscillate(k)\n",
    "\n",
    "# 結果の描画\n",
    "def update(k):\n",
    "    pyplot.cla()\n",
    "    pyplot.plot(x,u[k],\"b\")\n",
    "    pyplot.ylim(-1.1,1.1)\n",
    "    pyplot.title('step='+str(k))\n",
    "fig = pyplot.figure();\n",
    "movie = animation.FuncAnimation(fig,update,frames=m,interval=50)\n",
    "rc('animation',html='jshtml');\n",
    "movie"
   ]
  },
  {
   "cell_type": "code",
   "execution_count": null,
   "metadata": {},
   "outputs": [],
   "source": []
  }
 ],
 "metadata": {
  "kernelspec": {
   "display_name": "Python 3",
   "language": "python",
   "name": "python3"
  },
  "language_info": {
   "codemirror_mode": {
    "name": "ipython",
    "version": 3
   },
   "file_extension": ".py",
   "mimetype": "text/x-python",
   "name": "python",
   "nbconvert_exporter": "python",
   "pygments_lexer": "ipython3",
   "version": "3.7.6"
  }
 },
 "nbformat": 4,
 "nbformat_minor": 4
}
