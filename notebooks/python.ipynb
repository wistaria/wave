{
 "cells": [
  {
   "cell_type": "markdown",
   "metadata": {},
   "source": [
    "# Pythonプログラミング入門"
   ]
  },
  {
   "cell_type": "markdown",
   "metadata": {},
   "source": [
    "「Copy to Drive」ボタンを押すことで、ノートブックのコピーが自分のGoogle Drive上にコピーされ、実行・保存できるようになります"
   ]
  },
  {
   "cell_type": "markdown",
   "metadata": {},
   "source": [
    "セルを上から順に「Shift + Enter」または「Shift + Return」で実行していくことで、結果を確認することができます"
   ]
  },
  {
   "cell_type": "markdown",
   "metadata": {},
   "source": [
    "コード中のある行に \"#\" 記号があると、その行のそれ以降はコメントとして扱われます"
   ]
  },
  {
   "cell_type": "markdown",
   "metadata": {},
   "source": [
    "## 基本的な演算"
   ]
  },
  {
   "cell_type": "markdown",
   "metadata": {},
   "source": [
    "### 四則演算(和・差・積・商)"
   ]
  },
  {
   "cell_type": "code",
   "execution_count": null,
   "metadata": {},
   "outputs": [],
   "source": [
    "1+2"
   ]
  },
  {
   "cell_type": "code",
   "execution_count": null,
   "metadata": {},
   "outputs": [],
   "source": [
    "4-3"
   ]
  },
  {
   "cell_type": "code",
   "execution_count": null,
   "metadata": {},
   "outputs": [],
   "source": [
    "3.14*2"
   ]
  },
  {
   "cell_type": "code",
   "execution_count": null,
   "metadata": {},
   "outputs": [],
   "source": [
    "5/2"
   ]
  },
  {
   "cell_type": "markdown",
   "metadata": {},
   "source": [
    "割り算(/)の結果は必ず実数になります。整数の結果が欲しい場合には \"//\" を使います"
   ]
  },
  {
   "cell_type": "code",
   "execution_count": null,
   "metadata": {},
   "outputs": [],
   "source": [
    "4//2"
   ]
  },
  {
   "cell_type": "code",
   "execution_count": null,
   "metadata": {},
   "outputs": [],
   "source": [
    "5//2"
   ]
  },
  {
   "cell_type": "markdown",
   "metadata": {},
   "source": [
    "割り算の余りを計算するには \"%\" を使います"
   ]
  },
  {
   "cell_type": "code",
   "execution_count": null,
   "metadata": {},
   "outputs": [],
   "source": [
    "5%3"
   ]
  },
  {
   "cell_type": "markdown",
   "metadata": {},
   "source": [
    "### べき乗"
   ]
  },
  {
   "cell_type": "markdown",
   "metadata": {},
   "source": [
    "aのb乗を計算したい場合には \"a**b\" と書きます"
   ]
  },
  {
   "cell_type": "code",
   "execution_count": null,
   "metadata": {},
   "outputs": [],
   "source": [
    "2**3"
   ]
  },
  {
   "cell_type": "markdown",
   "metadata": {},
   "source": [
    "### 指数関数・三角関数"
   ]
  },
  {
   "cell_type": "markdown",
   "metadata": {},
   "source": [
    "これらの関数を使うには、あらかじめmathモジュールをインポートしておく必要があります。mathモジュールをインポートすると、円周率(pi)などの定数も使えるようになります。モジュールのインポートは一度行えば、そのノートブックの中ではそれ以降ずっと有効となります"
   ]
  },
  {
   "cell_type": "markdown",
   "metadata": {},
   "source": [
    "指数関数: $\\exp(2)$"
   ]
  },
  {
   "cell_type": "code",
   "execution_count": null,
   "metadata": {},
   "outputs": [],
   "source": [
    "import math\n",
    "math.exp(2)"
   ]
  },
  {
   "cell_type": "markdown",
   "metadata": {},
   "source": [
    "三角関数: $\\cos(\\pi)$"
   ]
  },
  {
   "cell_type": "code",
   "execution_count": null,
   "metadata": {},
   "outputs": [],
   "source": [
    "math.cos(math.pi)"
   ]
  },
  {
   "cell_type": "markdown",
   "metadata": {},
   "source": [
    "## 変数"
   ]
  },
  {
   "cell_type": "markdown",
   "metadata": {},
   "source": [
    "整数や実数の値は変数に代入することができます"
   ]
  },
  {
   "cell_type": "code",
   "execution_count": null,
   "metadata": {},
   "outputs": [],
   "source": [
    "a=2.0\n",
    "b=1.5"
   ]
  },
  {
   "cell_type": "code",
   "execution_count": null,
   "metadata": {},
   "outputs": [],
   "source": [
    "a+b"
   ]
  },
  {
   "cell_type": "code",
   "execution_count": null,
   "metadata": {},
   "outputs": [],
   "source": [
    "math.cos(a*math.pi)"
   ]
  },
  {
   "cell_type": "code",
   "execution_count": null,
   "metadata": {},
   "outputs": [],
   "source": [
    "b=a"
   ]
  },
  {
   "cell_type": "code",
   "execution_count": null,
   "metadata": {},
   "outputs": [],
   "source": [
    "b+1"
   ]
  },
  {
   "cell_type": "markdown",
   "metadata": {},
   "source": [
    "## 配列"
   ]
  },
  {
   "cell_type": "markdown",
   "metadata": {},
   "source": [
    "### 一次元の配列"
   ]
  },
  {
   "cell_type": "markdown",
   "metadata": {},
   "source": [
    "配列には、numpyモジュールに含まれるarrayを使います。numpyモジュールはnpという名前でインポートします"
   ]
  },
  {
   "cell_type": "code",
   "execution_count": null,
   "metadata": {},
   "outputs": [],
   "source": [
    "import numpy as np"
   ]
  },
  {
   "cell_type": "markdown",
   "metadata": {},
   "source": [
    "長さ5の1次元配列を作成しaに代入"
   ]
  },
  {
   "cell_type": "code",
   "execution_count": null,
   "metadata": {},
   "outputs": [],
   "source": [
    "v=np.array([1,2,3,4,5])\n",
    "print(v)"
   ]
  },
  {
   "cell_type": "markdown",
   "metadata": {},
   "source": [
    "すべての要素が0の一次元配列を作るにはnp.zeros()を使います"
   ]
  },
  {
   "cell_type": "code",
   "execution_count": null,
   "metadata": {},
   "outputs": [],
   "source": [
    "print(np.zeros(10))"
   ]
  },
  {
   "cell_type": "markdown",
   "metadata": {},
   "source": [
    "np.linspace()を使うと、ある値からある値までを等分した一次元配列を作ることができます"
   ]
  },
  {
   "cell_type": "code",
   "execution_count": null,
   "metadata": {},
   "outputs": [],
   "source": [
    "print(np.linspace(0, 10, 5)) # 0から10までの長さ5の配列"
   ]
  },
  {
   "cell_type": "markdown",
   "metadata": {},
   "source": [
    "np.linspace()の第4引数に\"False\"を指定すると、最後の要素を含まない一次元配列ができます"
   ]
  },
  {
   "cell_type": "code",
   "execution_count": null,
   "metadata": {},
   "outputs": [],
   "source": [
    "print(np.linspace(0, 10, 5, False)) # 0から10までの長さ5の配列(10は含まない)"
   ]
  },
  {
   "cell_type": "markdown",
   "metadata": {},
   "source": [
    "### 配列の要素"
   ]
  },
  {
   "cell_type": "markdown",
   "metadata": {},
   "source": [
    "配列の要素を参照するには \"[]\" を使います。Pythonでは配列の添字は0から始まることに注意してください"
   ]
  },
  {
   "cell_type": "code",
   "execution_count": null,
   "metadata": {},
   "outputs": [],
   "source": [
    "v[0] # 最初の要素"
   ]
  },
  {
   "cell_type": "markdown",
   "metadata": {},
   "source": [
    "最後の要素の添字は(配列の長さ-1)です"
   ]
  },
  {
   "cell_type": "code",
   "execution_count": null,
   "metadata": {},
   "outputs": [],
   "source": [
    "v[4] # 最後の要素"
   ]
  },
  {
   "cell_type": "markdown",
   "metadata": {},
   "source": [
    "添字5は6番目の要素を指すのでエラーになります"
   ]
  },
  {
   "cell_type": "code",
   "execution_count": null,
   "metadata": {},
   "outputs": [],
   "source": [
    "v[5] # エラー"
   ]
  },
  {
   "cell_type": "markdown",
   "metadata": {},
   "source": [
    "負の添字は後ろから数えることを意味します。添字-1は最後の要素を指します"
   ]
  },
  {
   "cell_type": "code",
   "execution_count": null,
   "metadata": {},
   "outputs": [],
   "source": [
    "v[-1] # 最後の要素"
   ]
  },
  {
   "cell_type": "code",
   "execution_count": null,
   "metadata": {
    "scrolled": true
   },
   "outputs": [],
   "source": [
    "v[-2] # 最後から二番目の要素"
   ]
  },
  {
   "cell_type": "markdown",
   "metadata": {},
   "source": [
    "最後の要素の値を10にセットしてみます"
   ]
  },
  {
   "cell_type": "code",
   "execution_count": null,
   "metadata": {},
   "outputs": [],
   "source": [
    "v[-1]=10\n",
    "print(v)"
   ]
  },
  {
   "cell_type": "markdown",
   "metadata": {},
   "source": [
    "### 配列のスライス"
   ]
  },
  {
   "cell_type": "markdown",
   "metadata": {},
   "source": [
    "スライスを使って配列の一部分を取り出すことができます。\"[i:j]\"と指定すると添字iから(j-1)までを含む部分配列を返します"
   ]
  },
  {
   "cell_type": "code",
   "execution_count": null,
   "metadata": {},
   "outputs": [],
   "source": [
    "print(v[1:3])"
   ]
  },
  {
   "cell_type": "markdown",
   "metadata": {},
   "source": [
    "数字を省略すると最初から最後までを返します"
   ]
  },
  {
   "cell_type": "code",
   "execution_count": null,
   "metadata": {},
   "outputs": [],
   "source": [
    "print(v[:])"
   ]
  },
  {
   "cell_type": "markdown",
   "metadata": {},
   "source": [
    "負の添字も使えます。長さが5の配列の場合、v[1:-2]はv[1:3]と同じ意味になります"
   ]
  },
  {
   "cell_type": "code",
   "execution_count": null,
   "metadata": {},
   "outputs": [],
   "source": [
    "print(v[1:-2])"
   ]
  },
  {
   "cell_type": "markdown",
   "metadata": {},
   "source": [
    "### 配列の演算"
   ]
  },
  {
   "cell_type": "markdown",
   "metadata": {},
   "source": [
    "配列に定数を掛けるとそれぞれの要素が定数倍されます"
   ]
  },
  {
   "cell_type": "code",
   "execution_count": null,
   "metadata": {},
   "outputs": [],
   "source": [
    "print(3*v)"
   ]
  },
  {
   "cell_type": "markdown",
   "metadata": {},
   "source": [
    "要素毎のべき乗や指数関数も計算することができます。指数関数を計算するにはmath.exp()ではなくnp.exp()を使います"
   ]
  },
  {
   "cell_type": "code",
   "execution_count": null,
   "metadata": {},
   "outputs": [],
   "source": [
    "print(v**2)\n",
    "print(np.exp(v))"
   ]
  },
  {
   "cell_type": "markdown",
   "metadata": {},
   "source": [
    "同じ長さの配列の和を取ると、結果はそれぞれの要素の和を要素として持つ配列となります"
   ]
  },
  {
   "cell_type": "code",
   "execution_count": null,
   "metadata": {},
   "outputs": [],
   "source": [
    "w=np.array([2,3,4,5,6])\n",
    "print(v+w)"
   ]
  },
  {
   "cell_type": "markdown",
   "metadata": {},
   "source": [
    "配列のスライス同士の和も計算できます。スライスの長さは同じである必要があります"
   ]
  },
  {
   "cell_type": "code",
   "execution_count": null,
   "metadata": {},
   "outputs": [],
   "source": [
    "print(v[1:3]+w[0:2])"
   ]
  },
  {
   "cell_type": "markdown",
   "metadata": {},
   "source": [
    "長さが違う場合にはエラーとなります"
   ]
  },
  {
   "cell_type": "code",
   "execution_count": null,
   "metadata": {},
   "outputs": [],
   "source": [
    "v[1:3]+w[0:4] # エラー"
   ]
  },
  {
   "cell_type": "markdown",
   "metadata": {},
   "source": [
    "### 二次元配列"
   ]
  },
  {
   "cell_type": "markdown",
   "metadata": {},
   "source": [
    "np.zeros()では二次元配列も作ることができます"
   ]
  },
  {
   "cell_type": "code",
   "execution_count": null,
   "metadata": {},
   "outputs": [],
   "source": [
    "print(np.zeros([3,4])) # サイズ3x4の二次元配列"
   ]
  },
  {
   "cell_type": "markdown",
   "metadata": {},
   "source": [
    "要素へのアクセスやスライスの機能も一次元と同様に使えます"
   ]
  },
  {
   "cell_type": "code",
   "execution_count": null,
   "metadata": {},
   "outputs": [],
   "source": [
    "m=np.array([[0,1,2,3],[4,5,6,7],[8,9,10,11]])\n",
    "print(m)\n",
    "print(m[1,2]) # [1,2]成分\n",
    "print(m[1:3,:]) # 行1,2を取り出す"
   ]
  },
  {
   "cell_type": "markdown",
   "metadata": {},
   "source": [
    "## 繰り返し"
   ]
  },
  {
   "cell_type": "markdown",
   "metadata": {},
   "source": [
    "処理を繰り返すにはfor文を使います。字下げされた部分が繰り返されます"
   ]
  },
  {
   "cell_type": "code",
   "execution_count": null,
   "metadata": {},
   "outputs": [],
   "source": [
    "for k in range(10): # k=0から9まで10回繰り返す\n",
    "    m=2*k\n",
    "    n=k+3\n",
    "    print(m,n)"
   ]
  },
  {
   "cell_type": "code",
   "execution_count": null,
   "metadata": {},
   "outputs": [],
   "source": [
    "for k in range(3,9): # k=3から8まで6回繰り返す\n",
    "    print(k)"
   ]
  },
  {
   "cell_type": "markdown",
   "metadata": {},
   "source": [
    "## グラフや動画の作成"
   ]
  },
  {
   "cell_type": "markdown",
   "metadata": {},
   "source": [
    "### 二次元グラフの作成"
   ]
  },
  {
   "cell_type": "markdown",
   "metadata": {},
   "source": [
    "グラフの作成にはmatplotlibに含まれるpyplotモジュールを使います"
   ]
  },
  {
   "cell_type": "code",
   "execution_count": null,
   "metadata": {},
   "outputs": [],
   "source": [
    "from matplotlib import pyplot"
   ]
  },
  {
   "cell_type": "markdown",
   "metadata": {},
   "source": [
    "点のx座標とy座標それぞれを格納した一次元配列を用意してplot()を呼び出すとグラフが描かれます"
   ]
  },
  {
   "cell_type": "code",
   "execution_count": null,
   "metadata": {},
   "outputs": [],
   "source": [
    "x=np.linspace(0,2*math.pi)\n",
    "y=np.sin(x)\n",
    "pyplot.plot(x,y);"
   ]
  },
  {
   "cell_type": "markdown",
   "metadata": {},
   "source": [
    "x軸の表示範囲はxlim()、y軸の表示範囲はylim()で設定します。またタイトル、x軸ラベル、y軸ラベルはそれぞれ、title()、xlabel()、ylabel()で設定します"
   ]
  },
  {
   "cell_type": "code",
   "execution_count": null,
   "metadata": {},
   "outputs": [],
   "source": [
    "pyplot.plot(x,y);\n",
    "pyplot.xlim(0,math.pi);\n",
    "pyplot.ylim(0,2);\n",
    "pyplot.title(\"test\");\n",
    "pyplot.xlabel(\"x\");\n",
    "pyplot.ylabel(\"y\");"
   ]
  },
  {
   "cell_type": "markdown",
   "metadata": {},
   "source": [
    "### 三次元プロット"
   ]
  },
  {
   "cell_type": "markdown",
   "metadata": {},
   "source": [
    "三次元の図を作成するには、x座標、y座標、z座標を格納した一次元配列を渡します。まずはmeshgrid()を使い、(x,y)座標の組を二次元的に並べたグリッドを生成します。"
   ]
  },
  {
   "cell_type": "code",
   "execution_count": null,
   "metadata": {},
   "outputs": [],
   "source": [
    "x, y = np.meshgrid(np.linspace(-1,1,20),np.linspace(-1,1,20),indexing='ij')\n",
    "print(x) # 20x20のグリッドの400個の点のx座標が格納された一次元配列\n",
    "print(y) # 20x20のグリッドの400個の点のy座標が格納された一次元配列"
   ]
  },
  {
   "cell_type": "markdown",
   "metadata": {},
   "source": [
    "plot_wireframe()を使いワイヤフレームで三次元プロットします。pyplot.figure()やfig.add_subplot()はおまじないだと思ってください"
   ]
  },
  {
   "cell_type": "code",
   "execution_count": null,
   "metadata": {},
   "outputs": [],
   "source": [
    "z=x**2+y**2\n",
    "fig = pyplot.figure();\n",
    "axis = fig.add_subplot(111, projection='3d');\n",
    "axis.plot_wireframe(x, y, z);"
   ]
  },
  {
   "cell_type": "markdown",
   "metadata": {},
   "source": [
    "contourf()で等高線をプロットすることもできます。縦軸と横軸の長さを等しくするには、gca().set_aspect()を使います"
   ]
  },
  {
   "cell_type": "code",
   "execution_count": null,
   "metadata": {},
   "outputs": [],
   "source": [
    "pyplot.contourf(x,y,z);\n",
    "pyplot.gca().set_aspect('equal');"
   ]
  },
  {
   "cell_type": "markdown",
   "metadata": {},
   "source": [
    "### 動画の作成"
   ]
  },
  {
   "cell_type": "markdown",
   "metadata": {},
   "source": [
    "動画の作成するには、必要なモジュール(animation,rc,HTML)をインポートします。次に各コマを描画する関数(update)を定義します。upadte()の最初でcla()を使って図をクリアしていることに注意してください"
   ]
  },
  {
   "cell_type": "code",
   "execution_count": null,
   "metadata": {},
   "outputs": [],
   "source": [
    "from matplotlib import pyplot,animation,rc\n",
    "from IPython.display import HTML\n",
    "\n",
    "def update(k):\n",
    "    pyplot.cla()\n",
    "    x=np.linspace(-math.pi,math.pi)\n",
    "    y=np.sin(x-0.1*k)\n",
    "    pyplot.plot(x,y)\n",
    "    pyplot.title('step='+str(k))"
   ]
  },
  {
   "cell_type": "markdown",
   "metadata": {},
   "source": [
    "以下のコマンドを実行して動画を作成します。ここではフレームの数を100、1フレームの表示時間を50ミリ秒に設定しています。上で定義したupdate()関数がk=0から99まで合計100回呼び出されます"
   ]
  },
  {
   "cell_type": "code",
   "execution_count": null,
   "metadata": {},
   "outputs": [],
   "source": [
    "fig = pyplot.figure()\n",
    "movie = animation.FuncAnimation(fig,update,frames=100,interval=50)\n",
    "rc('animation', html='jshtml')\n",
    "movie"
   ]
  },
  {
   "cell_type": "markdown",
   "metadata": {},
   "source": [
    "再生ボタンを押すと動画が再生されます"
   ]
  },
  {
   "cell_type": "code",
   "execution_count": null,
   "metadata": {},
   "outputs": [],
   "source": []
  }
 ],
 "metadata": {
  "kernelspec": {
   "display_name": "Python 3",
   "language": "python",
   "name": "python3"
  },
  "language_info": {
   "codemirror_mode": {
    "name": "ipython",
    "version": 3
   },
   "file_extension": ".py",
   "mimetype": "text/x-python",
   "name": "python",
   "nbconvert_exporter": "python",
   "pygments_lexer": "ipython3",
   "version": "3.8.3"
  }
 },
 "nbformat": 4,
 "nbformat_minor": 4
}
