{
 "cells": [
  {
   "cell_type": "markdown",
   "metadata": {},
   "source": [
    "# 一次元の波"
   ]
  },
  {
   "cell_type": "code",
   "execution_count": null,
   "metadata": {},
   "outputs": [],
   "source": [
    "import numpy as np\n",
    "from matplotlib import pyplot, animation, rc\n",
    "from IPython.display import HTML"
   ]
  },
  {
   "cell_type": "code",
   "execution_count": null,
   "metadata": {},
   "outputs": [],
   "source": [
    "s = 1.0     # 波の伝わる速さ\n",
    "L = 1.0     # 系の長さ\n",
    "T = 2.0     # シミュレーション時間\n",
    "n = 100     # 空間刻み数\n",
    "m = 200     # 時間刻み数\n",
    "dx = L/n    # 空間刻み幅\n",
    "dt = T/m    # 時間刻み幅\n",
    "a = s*dt/dx # α"
   ]
  },
  {
   "cell_type": "code",
   "execution_count": null,
   "metadata": {},
   "outputs": [],
   "source": [
    "# 初期条件\n",
    "x = np.linspace(0,L,n,False)\n",
    "u0 = np.exp(-200*(x-0.5*L)**2) # 初期変位\n",
    "v0 = np.zeros(n) # 初期速度"
   ]
  },
  {
   "cell_type": "code",
   "execution_count": null,
   "metadata": {},
   "outputs": [],
   "source": [
    "# シミュレーション\n",
    "u = np.zeros((m,n))\n",
    "u[0,1:-1] = u0[1:-1]\n",
    "u[1,1:-1] = (1-a**2)*u[0,1:-1]+dt*v0[1:-1]+(a**2/2)*(u[0,0:-2]+u[0,2:n])\n",
    "for k in range(2,m):\n",
    "    u[k,1:-1] = 2*(1-a**2)*u[k-1,1:-1]-u[k-2,1:-1]+a**2*(u[k-1,0:-2]+u[k-1,2:n])"
   ]
  },
  {
   "cell_type": "code",
   "execution_count": null,
   "metadata": {},
   "outputs": [],
   "source": [
    "# 結果のプロット\n",
    "def update(k):\n",
    "    pyplot.cla()\n",
    "    pyplot.plot(x,u[k],\"b\")\n",
    "    pyplot.ylim(-1.1,1.1)\n",
    "    pyplot.title('step='+str(k))\n",
    "fig = pyplot.figure();\n",
    "movie = animation.FuncAnimation(fig,update,frames=m,interval=50)\n",
    "rc('animation',html='jshtml');\n",
    "movie"
   ]
  },
  {
   "cell_type": "code",
   "execution_count": null,
   "metadata": {},
   "outputs": [],
   "source": []
  }
 ],
 "metadata": {
  "kernelspec": {
   "display_name": "Python 3",
   "language": "python",
   "name": "python3"
  },
  "language_info": {
   "codemirror_mode": {
    "name": "ipython",
    "version": 3
   },
   "file_extension": ".py",
   "mimetype": "text/x-python",
   "name": "python",
   "nbconvert_exporter": "python",
   "pygments_lexer": "ipython3",
   "version": "3.7.7"
  }
 },
 "nbformat": 4,
 "nbformat_minor": 4
}
